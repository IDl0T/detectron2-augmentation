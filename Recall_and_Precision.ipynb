{
 "cells": [
  {
   "cell_type": "code",
   "execution_count": 2,
   "metadata": {},
   "outputs": [],
   "source": [
    "import numpy as np\n",
    "import detectron2\n",
    "from detectron2.modeling import build_model\n",
    "from detectron2.config import get_cfg\n",
    "from detectron2.engine import DefaultPredictor\n",
    "import glob\n",
    "import pickle\n",
    "import cv2\n",
    "import os\n",
    "import json\n",
    "import torch\n",
    "import torch.nn.functional as F\n",
    "from matplotlib import pyplot as plt\n",
    "from jupyterthemes import jtplot\n",
    "jtplot.style(theme='grade3', ticks=True, grid=False, figsize=(20, 10))"
   ]
  },
  {
   "cell_type": "markdown",
   "metadata": {},
   "source": [
    "# Get proposals\n",
    "This only needs to be run once\n",
    "\n",
    "## pickle format\n",
    "dictionary: {\"boxes\":`boxes`, \"scores\":`scores`}  \n",
    "boxes:(1000, 32)  \n",
    "scores:(1000, 9) 8 class + 1 background  "
   ]
  },
  {
   "cell_type": "code",
   "execution_count": 11,
   "metadata": {},
   "outputs": [
    {
     "name": "stderr",
     "output_type": "stream",
     "text": [
      "Config './detectron2/configs/Cityscapes/mask_rcnn_R_50_FPN.yaml' has no VERSION. Assuming it to be compatible with latest v2.\n"
     ]
    },
    {
     "name": "stdout",
     "output_type": "stream",
     "text": [
      "./datasets/cityscapes/leftImg8bit/val/frankfurt/frankfurt_000000_000294_leftImg8bit.png ./datasets/cityscapes/gtFine/val/frankfurt/frankfurt_000000_000294_gtFine_polygons.json\n"
     ]
    }
   ],
   "source": [
    "cfg = get_cfg()\n",
    "# cfg.merge_from_file(r\"./output/config.yaml\")\n",
    "cfg.merge_from_file(r\"./detectron2/configs/Cityscapes/mask_rcnn_R_50_FPN.yaml\")\n",
    "cfg.MODEL.WEIGHTS = r\"./model_final_af9cf5.pkl\"\n",
    "predictor = DefaultPredictor(cfg)\n",
    "imgpath = glob.glob(r\"./datasets/cityscapes/leftImg8bit/val/*/*.png\")\n",
    "gtpath = glob.glob(r\"./datasets/cityscapes/gtFine/val/*/*.json\")\n",
    "imgpath.sort()\n",
    "gtpath.sort()\n",
    "print(imgpath[0], gtpath[0])"
   ]
  },
  {
   "cell_type": "code",
   "execution_count": 12,
   "metadata": {},
   "outputs": [
    {
     "name": "stdout",
     "output_type": "stream",
     "text": [
      "progress: 99 / 500\n",
      "progress: 199 / 500\n",
      "progress: 299 / 500\n",
      "progress: 399 / 500\n",
      "progress: 499 / 500\n"
     ]
    }
   ],
   "source": [
    "# clear proposals folder beforehand\n",
    "temp = glob.glob(r\"./proposals/*.pkl\")\n",
    "for i in temp:\n",
    "    os.remove(i)\n",
    "\n",
    "for i in range(500):\n",
    "    if (i % 100 == 99):\n",
    "        print(\"progress: {} / 500\".format(i))\n",
    "    imgName = os.path.splitext(os.path.basename(imgpath[i]))[0]\n",
    "    img = cv2.imread(imgpath[i])\n",
    "    output = predictor(img)\n",
    "    os.rename(r\"./proposals/temp.pkl\", r\"./proposals/\" + imgName + r\".pkl\")\n"
   ]
  },
  {
   "cell_type": "markdown",
   "metadata": {},
   "source": [
    "## Helper Functions"
   ]
  },
  {
   "cell_type": "code",
   "execution_count": 13,
   "metadata": {},
   "outputs": [
    {
     "name": "stdout",
     "output_type": "stream",
     "text": [
      "./proposals/frankfurt_000000_000294_leftImg8bit.pkl\n"
     ]
    }
   ],
   "source": [
    "def print_rect(s, xy, w, h, color):\n",
    "    plt.gca().add_patch(plt.Rectangle(xy=xy,\n",
    "    width=w, \n",
    "    height=h,\n",
    "    fill=False, linewidth=1, edgecolor=color))\n",
    "    plt.text(xy[0], xy[1], s, size = 10, bbox = dict(facecolor = \"r\", alpha = 0.2))\n",
    "\n",
    "def area(box):\n",
    "    return max(0, (box[2] - box[0])) * max(0, (box[3] - box[1]))\n",
    "    \n",
    "def iou(box1, box2):\n",
    "    U = [max(box1[0], box2[0]), max(box1[1], box2[1]), min(box1[2], box2[2]), min(box1[3], box2[3])]\n",
    "    return area(U) / (area(box1) + area(box2) - area(U) + 1e-6)\n",
    "    \n",
    "def pairwise_iou(boxs1, boxs2):\n",
    "    boxs1 = boxs1.reshape(-1, 4)\n",
    "    boxs2 = boxs2.reshape(-1, 4)\n",
    "    out = np.zeros((len(boxs1), len(boxs2)))\n",
    "    assert(len(boxs1) > 0)\n",
    "    assert(len(boxs2) > 0)\n",
    "    for i, box1 in enumerate(boxs1):\n",
    "        for j, box2 in enumerate(boxs2):\n",
    "            out[i, j] = iou(box1, box2)\n",
    "    return out\n",
    "\n",
    "def index_area_threshold(boxes, area_threshold):\n",
    "    index = []\n",
    "    for i, box in enumerate(boxes):\n",
    "        if area(box) <= area_threshold:\n",
    "            index.append(i);\n",
    "    return index\n",
    "\n",
    "selection = ['person', 'rider', 'car', 'truck', 'bus', 'train', 'motorcycle', 'bicycle']\n",
    "label2int = {'person':0, 'rider':1, 'car':2, 'truck':3, 'bus':4, 'train':5, 'motorcycle':6, 'bicycle':7}\n",
    "proposal_paths = glob.glob(\"./proposals/*.pkl\")\n",
    "proposal_paths.sort()\n",
    "print(proposal_paths[0])"
   ]
  },
  {
   "cell_type": "markdown",
   "metadata": {},
   "source": [
    "# Compute Proposal Box Recall & Precision\n",
    "reference: https://medium.com/@yanfengliux/the-confusing-metrics-of-ap-and-map-for-object-detection-3113ba0386ef"
   ]
  },
  {
   "cell_type": "code",
   "execution_count": 14,
   "metadata": {},
   "outputs": [
    {
     "name": "stdout",
     "output_type": "stream",
     "text": [
      "./datasets/cityscapes/gtFine/val/frankfurt/frankfurt_000000_000294_gtFine_polygons.json\n"
     ]
    }
   ],
   "source": [
    "# optional: load smallscapes\n",
    "smallscapes = True\n",
    "\n",
    "if smallscapes:\n",
    "    gtpath = glob.glob(r\"./datasets/smallscapes/*.json\")\n",
    "    gtpath.sort()\n",
    "    area_threshold = 7000\n",
    "else:\n",
    "    gtpath = glob.glob(r\"./datasets/cityscapes/gtFine/val/*/*.json\")\n",
    "    gtpath.sort()\n",
    "    \n",
    "print(gtpath[0])"
   ]
  },
  {
   "cell_type": "code",
   "execution_count": null,
   "metadata": {},
   "outputs": [
    {
     "name": "stdout",
     "output_type": "stream",
     "text": [
      "progress: 10 / 500\n",
      "progress: 20 / 500\n"
     ]
    }
   ],
   "source": [
    "iou_threshold = 0.5\n",
    "precisions = [0. for i in range(9)]\n",
    "recalls = [0. for i in range(9)]\n",
    "\n",
    "for i in range(500):\n",
    "    with open(proposal_paths[i], \"rb\") as file:\n",
    "        temp = pickle.load(file)\n",
    "        raw_boxes = temp['boxes'].cpu().reshape(1000, 8, 4)\n",
    "        raw_scores = temp['scores'].cpu()[:, :-1]\n",
    "    \n",
    "    with open(gtpath[i], 'rb') as file:\n",
    "        data = file.read()\n",
    "    gts = json.loads(data)[\"objects\"] # list[dict]\n",
    "    labels = []\n",
    "    gtboxes = []\n",
    "    for gt in gts:\n",
    "        if not gt['label'] in selection:\n",
    "            continue\n",
    "        polygon = gt['polygon']\n",
    "        labels.append(gt['label'])\n",
    "        gtboxes.append([9999, 9999, 0, 0])\n",
    "        for point in polygon:\n",
    "            gtboxes[-1][0] = min(gtboxes[-1][0], point[0])\n",
    "            gtboxes[-1][1] = min(gtboxes[-1][1], point[1])\n",
    "            gtboxes[-1][2] = max(gtboxes[-1][2], point[0])\n",
    "            gtboxes[-1][3] = max(gtboxes[-1][3], point[1])\n",
    "    gtboxes = np.array(gtboxes)\n",
    "    labels = [label2int[i] for i in labels]\n",
    "    raw_pred_classes = raw_scores.argmax(1)\n",
    "    raw_boxes = np.array([raw_boxes[i, raw_pred_classes[i], :].tolist() for i in range(len(raw_boxes))])\n",
    "    if smallscapes:\n",
    "        filt = [area(box) < area_threshold for box in raw_boxes]\n",
    "        raw_boxes = raw_boxes[filt]\n",
    "        raw_scores = raw_scores[filt]\n",
    "        raw_pred_classes = raw_pred_classes[filt]\n",
    "#     print(raw_boxes.shape, raw_scores.shape, raw_pred_classes.shape)\n",
    "    \n",
    "    for j, score_threshold in enumerate(np.arange(0.5, 0.95, 0.05)):\n",
    "        filt = raw_scores.max(dim=1)[0] > score_threshold\n",
    "#         print(raw_boxes.shape, filt.shape)\n",
    "        boxes = raw_boxes[filt]\n",
    "        scores = raw_scores[filt]\n",
    "        pred_classes = raw_pred_classes[filt]\n",
    "#         print(raw_scores)\n",
    "#         print(len(boxes), len(gtboxes))\n",
    "        \n",
    "        # special cases\n",
    "        if len(boxes) == 0:\n",
    "            TP_pre, TP_rec, FN, FP = 0, 0, len(gtboxes), 0\n",
    "            precision = TP_pre / (TP_pre + FP) if TP_pre + FP != 0 else 1\n",
    "            recall = TP_rec / (TP_rec + FN) if TP_rec + FN != 0 else 1\n",
    "            precisions[j] += precision\n",
    "            recalls[j] += recall\n",
    "            continue\n",
    "        if len(gtboxes) == 0:\n",
    "            TP_pre, TP_rec, FN, FP = 0, 0, 0, len(boxes)\n",
    "            precision = TP_pre / (TP_pre + FP) if TP_pre + FP != 0 else 1\n",
    "            recall = TP_rec / (TP_rec + FN) if TP_rec + FN != 0 else 1\n",
    "            precisions[j] += precision\n",
    "            recalls[j] += recall\n",
    "            continue\n",
    "\n",
    "        ious = pairwise_iou(boxes, gtboxes)\n",
    "        eval_matrix = ious > iou_threshold\n",
    "\n",
    "#         plt.subplot(1, 9, j+1)\n",
    "#         plt.imshow(eval_matrix)\n",
    "\n",
    "        TP_pre, TP_rec = np.sum(np.sum(eval_matrix, axis=1) > 0), np.sum(np.sum(eval_matrix, axis=0) > 0) \n",
    "        FN = np.sum(np.sum(eval_matrix, axis=0) == 0)\n",
    "        FP = np.sum(np.sum(eval_matrix, axis=1) == 0)\n",
    "        # Precision & Recall\n",
    "        precision = TP_pre / (TP_pre + FP) if TP_pre + FP != 0 else 1\n",
    "        recall = TP_rec / (TP_rec + FN) if TP_rec + FN != 0 else 1\n",
    "        precisions[j] += precision\n",
    "        recalls[j] += recall\n",
    "\n",
    "#         img = cv2.imread(imgpath[i])\n",
    "#         b, g, r = cv2.split(img)\n",
    "#         img = cv2.merge([r, g, b])\n",
    "#         plt.imshow(img)\n",
    "#         for box, pred_class in zip(boxes, pred_classes):\n",
    "#             print_rect(selection[pred_class], (box[0], box[1]), box[2] - box[0], box[3] - box[1], 'b')\n",
    "#         for box, label in zip(gtboxes, labels):\n",
    "#             print_rect(selection[label], (box[0], box[1]), box[2] - box[0], box[3] - box[1], 'r')\n",
    "\n",
    "    if i % 10 == 9:\n",
    "        print(f\"progress: {i+1} / 500\")\n",
    "for i in range(9):\n",
    "    recalls[i] /= 500\n",
    "    precisions[i] /= 500\n"
   ]
  },
  {
   "cell_type": "code",
   "execution_count": 31,
   "metadata": {},
   "outputs": [
    {
     "name": "stdout",
     "output_type": "stream",
     "text": [
      "0.1 & 0.2 & 0.3 & 0.4 & 0.5 & 0.6 & 0.7 & 0.8 & 0.9 \\\\\n",
      "0.84 & 0.82 & 0.8 & 0.79 & 0.78 & 0.77 & 0.75 & 0.73 & 0.69 \\\\\n",
      "0.83 & 0.86 & 0.87 & 0.89 & 0.9 & 0.91 & 0.92 & 0.93 & 0.95 \\\\\n"
     ]
    },
    {
     "data": {
      "text/plain": [
       "[<matplotlib.lines.Line2D at 0x7fded68cb4e0>]"
      ]
     },
     "execution_count": 31,
     "metadata": {},
     "output_type": "execute_result"
    },
    {
     "data": {
      "image/png": "[encoded data removed]",
      "text/plain": [
       "<Figure size 720x720 with 1 Axes>"
      ]
     },
     "metadata": {},
     "output_type": "display_data"
    }
   ],
   "source": [
    "thre = [round(a * 100) / 100 for a in np.arange(0.5, 0.95, 0.05)]\n",
    "rec = [1] + [round(a * 100) / 100 for a in recalls] + [0]\n",
    "pre = [0] + [round(a * 100) / 100 for a in precisions] + [1]\n",
    "\n",
    "print(*thre, sep=' & ', end=' \\\\\\\\\\n')\n",
    "print(*rec[1:-1], sep=' & ', end=' \\\\\\\\\\n')\n",
    "print(*pre[1:-1], sep=' & ', end=' \\\\\\\\\\n')\n",
    "\n",
    "plt.figure(figsize = (10,10))\n",
    "plt.xlim([0, 1])\n",
    "plt.ylim([0, 1])\n",
    "plt.plot(rec, pre)\n",
    "\n"
   ]
  },
  {
   "cell_type": "markdown",
   "metadata": {},
   "source": [
    "# Extract small objects' annotation (smallscapes)"
   ]
  },
  {
   "cell_type": "code",
   "execution_count": 6,
   "metadata": {},
   "outputs": [],
   "source": [
    "# helper functions\n",
    "def polygon2box(polygon):\n",
    "    \"\"\"Convert polygon to Bounding box\n",
    "    Args:\n",
    "        polygon: (N, 2) list or ndarray\n",
    "    Returns:\n",
    "        box: (4, ) ndarray\n",
    "    \"\"\"\n",
    "    if type(polygon) != np.ndarray:\n",
    "        # print(type(polygon))\n",
    "        polygon = np.array(polygon)\n",
    "    \n",
    "    mins, maxs = np.min(polygon, axis=0), np.max(polygon, axis=0)\n",
    "    box = np.array([mins[0], mins[1], maxs[0], maxs[1]])\n",
    "    # print(box.dtype)\n",
    "    return box\n",
    "\n",
    "        "
   ]
  },
  {
   "cell_type": "code",
   "execution_count": 18,
   "metadata": {},
   "outputs": [],
   "source": [
    "area_threshold = 6000\n",
    "\n",
    "# clear destination folder beforehand\n",
    "temp = glob.glob(r\"./datasets/smallscapes/*.json\")\n",
    "for i in temp:\n",
    "    os.remove(i)\n",
    "    \n",
    "for path in gtpath:\n",
    "    with open(path, 'r') as file:# rb\n",
    "        data = json.load(file)\n",
    "    objects = data[\"objects\"] # list[dict]\n",
    "    out = {'imgHeight': data['imgHeight'], 'imgWidth': data['imgWidth'], 'objects': []} # the same format as cityscapes\n",
    "    for obj in objects:\n",
    "        if obj['label'] in selection:\n",
    "            box = polygon2box(obj['polygon'])\n",
    "            if area(box) < area_threshold:\n",
    "                out['objects'].append(obj)\n",
    "    \n",
    "    # dump to json !!!OUT CAN BE EMPTY!!!\n",
    "    base_name = os.path.splitext(os.path.basename(path))[0]\n",
    "    with open(r'./datasets/smallscapes/' + base_name + r'.json', 'w') as file:\n",
    "        s = json.dump(out, file, indent=4, separators=(',', ': '))\n",
    "    \n",
    "            "
   ]
  },
  {
   "cell_type": "markdown",
   "metadata": {},
   "source": [
    "# Visualize gtMask"
   ]
  },
  {
   "cell_type": "code",
   "execution_count": 7,
   "metadata": {},
   "outputs": [
    {
     "name": "stdout",
     "output_type": "stream",
     "text": [
      "./datasets/smallscapes/frankfurt_000000_022254_gtFine_polygons.json\n"
     ]
    }
   ],
   "source": [
    "from cityscapesscripts.preparation.json2instanceImg import json2instanceImg\n",
    "gtpath = glob.glob(r'./datasets/smallscapes/*.json')\n",
    "print(gtpath[0])\n",
    "for path in gtpath:\n",
    "    base_name = os.path.splitext(os.path.basename(path))[0]\n",
    "    outImg = r'./datasets/smallscapes/' + base_name + r'.png'\n",
    "    json2instanceImg(path, outImg, encoding=\"ids\") "
   ]
  },
  {
   "cell_type": "code",
   "execution_count": 33,
   "metadata": {},
   "outputs": [],
   "source": [
    "gtmask_path = glob.glob(r'./datasets/smallscapes/*.png')\n",
    "gtmask_path.sort()\n",
    "def visualize_gtmask(index):\n",
    "    masks = cv2.imread(gtmask_path[index])\n",
    "    img = cv2.imread(imgpath[index])\n",
    "    sequence = np.unique(masks)[1:]\n",
    "#     print(sequence)\n",
    "    new_img = np.zeros_like(img).astype('float64')\n",
    "    for label in sequence:\n",
    "        mask = (masks == label)\n",
    "        new_img += (0.9 * (img + 10) * mask + 0.1 * img) / len(sequence)\n",
    "    cv2.imwrite(r'./temp.png', new_img)\n",
    "#         cv2.imshow('a', 0.5 * img * (img == label)  + 0.5 * img)\n",
    "\n",
    "visualize_gtmask(0)"
   ]
  },
  {
   "cell_type": "code",
   "execution_count": 13,
   "metadata": {},
   "outputs": [],
   "source": []
  }
 ],
 "metadata": {
  "kernelspec": {
   "display_name": "Python 3",
   "language": "python",
   "name": "python3"
  },
  "language_info": {
   "codemirror_mode": {
    "name": "ipython",
    "version": 3
   },
   "file_extension": ".py",
   "mimetype": "text/x-python",
   "name": "python",
   "nbconvert_exporter": "python",
   "pygments_lexer": "ipython3",
   "version": "3.6.8"
  }
 },
 "nbformat": 4,
 "nbformat_minor": 2
}
